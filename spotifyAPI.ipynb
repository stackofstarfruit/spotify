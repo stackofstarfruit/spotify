{
 "cells": [
  {
   "cell_type": "code",
   "execution_count": 2,
   "metadata": {},
   "outputs": [],
   "source": [
    "import requests\n",
    "import base64\n",
    "import pandas as pd\n",
    "from sklearn.model_selection import train_test_split\n",
    "from sklearn.linear_model import LogisticRegression\n",
    "from sklearn.metrics import classification_report\n",
    "from sklearn.neighbors import KNeighborsClassifier\n",
    "from sklearn.preprocessing import StandardScaler\n",
    "from matplotlib import pyplot as plt\n",
    "from sklearn import svm\n",
    "from sklearn.svm import SVC\n",
    "\n",
    "CLIENT_ID = CLIENT_ID_GOES_HERE\n",
    "CLIENT_SECRET = CLIENT_SECRET_GOES_HERE\n",
    "CLIENT_CREDS = f\"{CLIENT_ID}:{CLIENT_SECRET}\"\n",
    "ENCODED = base64.b64encode(CLIENT_CREDS.encode())\n",
    "\n",
    "AUTH_URL = 'https://accounts.spotify.com/api/token'\n",
    "\n",
    "# POST\n",
    "auth_response = requests.post(AUTH_URL, {\n",
    "    'grant_type': 'client_credentials',\n",
    "    'client_id': CLIENT_ID,\n",
    "    'client_secret': CLIENT_SECRET,\n",
    "})\n",
    "\n",
    "# convert the response to JSON\n",
    "auth_response_data = auth_response.json()\n",
    "\n",
    "# save the access token\n",
    "#access_token = auth_response_data['access_token']\n",
    "BASE_URL = 'https://api.spotify.com/v1/'\n",
    "\n",
    "### index?\n",
    "#r = requests.get(BASE_URL + 'artists/' + artist_id + '/albums', \n",
    "#                 headers=headers, \n",
    "#                 params={'include_groups': 'album', 'limit': 50})"
   ]
  },
  {
   "cell_type": "code",
   "execution_count": 3,
   "metadata": {},
   "outputs": [],
   "source": [
    "### Authentication\n",
    "access_token = ACCESS_TOKEN_GOES_HERE\n",
    "headers = {\n",
    "    'Authorization': 'Bearer {token}'.format(token=access_token)\n",
    "}"
   ]
  },
  {
   "cell_type": "code",
   "execution_count": 4,
   "metadata": {},
   "outputs": [],
   "source": [
    "### Fetching track data\n",
    "\n",
    "liked_request = requests.get(BASE_URL + \"me/tracks\", headers=headers).json()\n",
    "liked_tracks = pd.DataFrame(liked_request)\n",
    "liked_tracks = pd.json_normalize(liked_tracks['items'])\n",
    "\n",
    "fnf_id = PLAYLIST_ID_GOES_HERE\n",
    "fnf_request = requests.get(BASE_URL + \"playlists/\" + fnf_id, headers=headers).json()\n",
    "fnf_tracks = pd.json_normalize(fnf_request)\n",
    "fnf_tracks = pd.json_normalize(fnf_tracks[\"tracks.items\"]).T\n",
    "fnf_tracks = pd.json_normalize(fnf_tracks[0])\n",
    "\n",
    "# you can find the URIs inside the Spotify app by right-clicking"
   ]
  },
  {
   "cell_type": "code",
   "execution_count": 5,
   "metadata": {},
   "outputs": [],
   "source": [
    "def clean_data(df_name):\n",
    "    short_tracks = df_name[['track.id', 'track.name', 'track.popularity']]\n",
    "    short_tracks = short_tracks.rename(columns={\"track.id\": \"id\", \"track.name\": \"name\", \"track.popularity\": \"popularity\"})\n",
    "    short_tracks[\"url\"] = BASE_URL + \"tracks/\" + short_tracks[\"id\"]\n",
    "    short_tracks[\"features_url\"] = BASE_URL + \"audio-features/\" + short_tracks[\"id\"]\n",
    "    return short_tracks"
   ]
  },
  {
   "cell_type": "code",
   "execution_count": 6,
   "metadata": {},
   "outputs": [],
   "source": [
    "def add_features(df_name):\n",
    "    features_df = pd.DataFrame()\n",
    "    for i in range(len(df_name)):\n",
    "        track_features = requests.get(df_name[\"features_url\"].iloc[i], headers=headers).json()\n",
    "        track_info = pd.DataFrame([track_features])\n",
    "        features_df = pd.concat([features_df, track_info])\n",
    "    full_tracks = pd.merge(df_name, features_df, on='id', how='left')\n",
    "    return full_tracks"
   ]
  },
  {
   "cell_type": "code",
   "execution_count": 7,
   "metadata": {},
   "outputs": [],
   "source": [
    "liked_tracks = clean_data(liked_tracks)\n",
    "liked_tracks = add_features(liked_tracks)\n",
    "liked_tracks[\"fav\"] = 1\n",
    "\n",
    "fnf_tracks = clean_data(fnf_tracks)\n",
    "fnf_tracks = add_features(fnf_tracks)\n",
    "fnf_tracks[\"fav\"] = 0\n",
    "\n",
    "all_tracks = pd.concat([liked_tracks, fnf_tracks])"
   ]
  },
  {
   "cell_type": "code",
   "execution_count": 8,
   "metadata": {},
   "outputs": [
    {
     "name": "stdout",
     "output_type": "stream",
     "text": [
      "              precision    recall  f1-score   support\n",
      "\n",
      "           0       0.83      0.95      0.88        20\n",
      "           1       0.00      0.00      0.00         4\n",
      "\n",
      "    accuracy                           0.79        24\n",
      "   macro avg       0.41      0.47      0.44        24\n",
      "weighted avg       0.69      0.79      0.74        24\n",
      "\n"
     ]
    }
   ],
   "source": [
    "test_tracks = all_tracks[[\"danceability\", \"energy\", \"loudness\", \"acousticness\", \"instrumentalness\", \"liveness\", \"speechiness\", \"tempo\", \"fav\"]]\n",
    "x_train, x_test, y_train, y_test = train_test_split(test_tracks.drop('fav', axis=1), test_tracks.fav ,test_size = 0.2, random_state=13)\n",
    "\n",
    "x_train = StandardScaler(with_mean=0, with_std=1).fit_transform(x_train)\n",
    "x_test = StandardScaler(with_mean=0, with_std=1).fit_transform(x_test)\n",
    "\n",
    "clf = KNeighborsClassifier(n_neighbors=3).fit(x_train, y_train)\n",
    "predictions = clf.predict(x_test)\n",
    "print(classification_report(y_test, predictions))"
   ]
  },
  {
   "cell_type": "code",
   "execution_count": 9,
   "metadata": {},
   "outputs": [],
   "source": [
    "new_id = NEW_PLAYLIST_ID_GOES_HERE\n",
    "new_request = requests.get(BASE_URL + \"playlists/\" + fnf_id, headers=headers).json()\n",
    "new_tracks = pd.json_normalize(new_request)\n",
    "new_tracks = pd.json_normalize(new_tracks[\"tracks.items\"]).T\n",
    "new_tracks = pd.json_normalize(new_tracks[0])\n",
    "\n",
    "new_tracks = clean_data(new_tracks)\n",
    "new_tracks = add_features(new_tracks)\n"
   ]
  },
  {
   "cell_type": "code",
   "execution_count": 10,
   "metadata": {},
   "outputs": [
    {
     "name": "stderr",
     "output_type": "stream",
     "text": [
      "C:\\Users\\17087\\AppData\\Roaming\\Python\\Python39\\site-packages\\sklearn\\base.py:438: UserWarning: X has feature names, but KNeighborsClassifier was fitted without feature names\n",
      "  warnings.warn(\n"
     ]
    },
    {
     "data": {
      "text/plain": [
       "array([0, 0, 0, 0, 0, 0, 0, 0, 0, 0, 0, 0, 0, 0, 0, 0, 0, 0, 0, 0, 0, 0,\n",
       "       0, 0, 0, 0, 0, 0, 0, 0, 0, 0, 0, 0, 0, 0, 0, 0, 0, 0, 0, 0, 0, 0,\n",
       "       0, 0, 0, 0, 0, 0, 0, 0, 0, 0, 0, 0, 0, 0, 0, 0, 0, 0, 0, 0, 0, 0,\n",
       "       0, 0, 0, 0, 0, 0, 0, 0, 0, 0, 0, 0, 0, 0, 0, 0, 0, 0, 0, 0, 0, 0,\n",
       "       0, 0, 0, 0, 0, 0, 0, 0, 0, 0, 0, 0], dtype=int64)"
      ]
     },
     "metadata": {},
     "output_type": "display_data"
    }
   ],
   "source": [
    "new_tracks = new_tracks[[\"danceability\", \"energy\", \"loudness\", \"acousticness\", \"instrumentalness\", \"liveness\", \"speechiness\", \"tempo\"]]\n",
    "display(clf.predict(new_tracks))"
   ]
  }
 ],
 "metadata": {
  "interpreter": {
   "hash": "6f7c4d44365b28014734406e4d617c1e1f76ea196def854c7b951a230f6e24f1"
  },
  "kernelspec": {
   "display_name": "Python 3.9.5 64-bit",
   "language": "python",
   "name": "python3"
  },
  "language_info": {
   "codemirror_mode": {
    "name": "ipython",
    "version": 3
   },
   "file_extension": ".py",
   "mimetype": "text/x-python",
   "name": "python",
   "nbconvert_exporter": "python",
   "pygments_lexer": "ipython3",
   "version": "3.9.5"
  },
  "orig_nbformat": 4
 },
 "nbformat": 4,
 "nbformat_minor": 2
}
